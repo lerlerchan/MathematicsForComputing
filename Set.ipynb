{
  "nbformat": 4,
  "nbformat_minor": 0,
  "metadata": {
    "colab": {
      "provenance": [],
      "authorship_tag": "ABX9TyM+iGpJSEmO8/sXDvXZH6cP",
      "include_colab_link": true
    },
    "kernelspec": {
      "name": "ir",
      "display_name": "R"
    },
    "language_info": {
      "name": "R"
    }
  },
  "cells": [
    {
      "cell_type": "markdown",
      "metadata": {
        "id": "view-in-github",
        "colab_type": "text"
      },
      "source": [
        "<a href=\"https://colab.research.google.com/github/lerlerchan/MathematicsForComputing/blob/main/Set.ipynb\" target=\"_parent\"><img src=\"https://colab.research.google.com/assets/colab-badge.svg\" alt=\"Open In Colab\"/></a>"
      ]
    },
    {
      "cell_type": "markdown",
      "source": [
        "# Declare Variable in R Language"
      ],
      "metadata": {
        "id": "WlftXTU-NINp"
      }
    },
    {
      "cell_type": "code",
      "execution_count": null,
      "metadata": {
        "colab": {
          "base_uri": "https://localhost:8080/"
        },
        "id": "YHI2DeOrNAks",
        "outputId": "f84470c1-6e5a-48d7-b0b4-f098acbd7bd2"
      },
      "outputs": [
        {
          "output_type": "stream",
          "name": "stdout",
          "text": [
            "[1] 42\n"
          ]
        }
      ],
      "source": [
        "\n",
        "x <- 42\n",
        "print(x)\n"
      ]
    },
    {
      "cell_type": "markdown",
      "source": [
        "# Declare List"
      ],
      "metadata": {
        "id": "4OV8IGEBRV5O"
      }
    },
    {
      "cell_type": "code",
      "source": [
        "my_list <- list(c('A', 'B', 'C'), 14, 20, 23, 31, 'Thunder', 'Wizards')\n",
        "\n",
        "print(my_list)\n",
        "\n"
      ],
      "metadata": {
        "colab": {
          "base_uri": "https://localhost:8080/"
        },
        "id": "LKQMfkRSRYiw",
        "outputId": "d11ebdbf-fdf1-4dcf-b4ae-9be4fad1a185"
      },
      "execution_count": null,
      "outputs": [
        {
          "output_type": "stream",
          "name": "stdout",
          "text": [
            "[[1]]\n",
            "[1] \"A\" \"B\" \"C\"\n",
            "\n",
            "[[2]]\n",
            "[1] 14\n",
            "\n",
            "[[3]]\n",
            "[1] 20\n",
            "\n",
            "[[4]]\n",
            "[1] 23\n",
            "\n",
            "[[5]]\n",
            "[1] 31\n",
            "\n",
            "[[6]]\n",
            "[1] \"Thunder\"\n",
            "\n",
            "[[7]]\n",
            "[1] \"Wizards\"\n",
            "\n"
          ]
        }
      ]
    },
    {
      "cell_type": "markdown",
      "source": [
        "# In R, you can perform set operations using the following functions:\n",
        "\n",
        "*intersect(x, y)*: Finds all rows present in both x and y.\n",
        "\n",
        "*union(x, y)*: Finds all rows present in either x or y, excluding duplicates.\n",
        "\n",
        "*union_all(x, y)*: Finds all rows present in either x or y, including duplicates.\n",
        "\n",
        "*setdiff(x, y)*: Finds all rows in x that aren’t in y.\n",
        "\n",
        "*symdiff(x, y)*: Computes the symmetric difference, i.e., all rows in x that aren’t in y and all rows in y that aren’t in x.\n",
        "\n",
        "*setequal(x, y)*: Returns TRUE if x and y contain the same rows (ignoring order)."
      ],
      "metadata": {
        "id": "9Q1asfK9PDNA"
      }
    },
    {
      "cell_type": "code",
      "source": [
        "# Create data frames\n",
        "df1 <- data.frame(x = 1:3)\n",
        "df2 <- data.frame(x = 3:5)\n",
        "\n",
        "# Find the intersection of the column 'x'\n",
        "intersection <- intersect(df1$x, df2$x)\n",
        "\n",
        "# Convert the intersection to a list\n",
        "intersection_list <- as.list(intersection)\n",
        "\n",
        "# Print the list\n",
        "print(intersection_list)\n"
      ],
      "metadata": {
        "colab": {
          "base_uri": "https://localhost:8080/"
        },
        "id": "OH7gLMJuPn8Z",
        "outputId": "3bc6e745-dce1-4b0f-812d-ce99e97d91ae"
      },
      "execution_count": null,
      "outputs": [
        {
          "output_type": "stream",
          "name": "stdout",
          "text": [
            "[[1]]\n",
            "[1] 3\n",
            "\n"
          ]
        }
      ]
    },
    {
      "cell_type": "code",
      "source": [],
      "metadata": {
        "id": "omfFB1Wmxyeg"
      },
      "execution_count": null,
      "outputs": []
    },
    {
      "cell_type": "markdown",
      "source": [
        "testing"
      ],
      "metadata": {
        "id": "N3VZYN-NxzAg"
      }
    }
  ]
}